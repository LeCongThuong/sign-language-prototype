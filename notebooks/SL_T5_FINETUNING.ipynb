{
  "cells": [
    {
      "cell_type": "markdown",
      "metadata": {
        "id": "uVWe-Np2SrIA"
      },
      "source": [
        "## Train"
      ]
    },
    {
      "cell_type": "code",
      "execution_count": null,
      "metadata": {
        "id": "G7BBg2SNEaDa"
      },
      "outputs": [],
      "source": [
        "%%capture\n",
        "!pip install datasets evaluate transformers[sentencepiece]\n",
        "!pip install rouge_score\n",
        "!pip install accelerate -U"
      ]
    },
    {
      "cell_type": "code",
      "execution_count": null,
      "metadata": {
        "id": "eDuUZV7nF4IL"
      },
      "outputs": [],
      "source": [
        "from datasets import Dataset\n",
        "from transformers import AutoTokenizer, AutoModelForSeq2SeqLM, DataCollatorForSeq2Seq, Seq2SeqTrainer, TrainingArguments, Seq2SeqTrainingArguments\n",
        "from tqdm.notebook import tqdm\n",
        "from torch.utils.data import DataLoader\n",
        "import json"
      ]
    },
    {
      "cell_type": "code",
      "execution_count": null,
      "metadata": {
        "id": "ah6qWnJtF-Wn"
      },
      "outputs": [],
      "source": [
        "tokenizer = AutoTokenizer.from_pretrained(\"VietAI/vit5-base\")\n",
        "model = AutoModelForSeq2SeqLM.from_pretrained(\"VietAI/vit5-base\")\n",
        "model.to('cuda')"
      ]
    },
    {
      "cell_type": "code",
      "execution_count": null,
      "metadata": {
        "id": "YgIAqjmjF9UC"
      },
      "outputs": [],
      "source": [
        "def preprocess_function(examples):\n",
        "    model_inputs = tokenizer(\n",
        "        examples[\"inputs\"], max_length=128, truncation=True, padding=True\n",
        "    )\n",
        "\n",
        "    with tokenizer.as_target_tokenizer():\n",
        "        labels = tokenizer(\n",
        "            examples[\"labels\"], max_length=128, truncation=True, padding=True\n",
        "        )\n",
        "    model_inputs['labels'] = labels['input_ids']\n",
        "    model_inputs['input_ids'] = model_inputs['input_ids']\n",
        "    return model_inputs"
      ]
    },
    {
      "cell_type": "code",
      "source": [
        "json_file_path = \"/content/normalized_train_val_test_dataset_2.json\""
      ],
      "metadata": {
        "id": "GvAotBj8IW1a"
      },
      "execution_count": null,
      "outputs": []
    },
    {
      "cell_type": "code",
      "execution_count": null,
      "metadata": {
        "id": "7Obl3e6AFGzI"
      },
      "outputs": [],
      "source": [
        "input_lines = []\n",
        "label_lines = []\n",
        "\n",
        "def load_json_to_dict(file_path):\n",
        "    with open(file_path, 'r') as f:\n",
        "        content = json.load(f)\n",
        "    return content\n",
        "\n",
        "content = load_json_to_dict(json_file_path)\n",
        "\n",
        "def get_dataset(content, data_type='train'):\n",
        "  for sample in content[data_type]:\n",
        "    input_lines.append(sample[\"text\"] + '</s>')\n",
        "    label_lines.append(sample[\"label\"])\n",
        "\n",
        "  dict_obj = {'inputs': input_lines, 'labels': label_lines}\n",
        "  dataset = Dataset.from_dict(dict_obj)\n",
        "  tokenized_datasets = dataset.map(preprocess_function, batched=True, remove_columns=['inputs'], num_proc=8)\n",
        "  return dataset, tokenized_datasets"
      ]
    },
    {
      "cell_type": "code",
      "source": [
        "train_dataset, tokenized_train_datasets = get_dataset(content, 'train')\n",
        "val_dataset, tokenized_val_datasets = get_dataset(content, 'val')\n",
        "test_dataset, tokenized_test_datasets = get_dataset(content, 'test')"
      ],
      "metadata": {
        "id": "oXieLZUcxJAq"
      },
      "execution_count": null,
      "outputs": []
    },
    {
      "cell_type": "code",
      "execution_count": null,
      "metadata": {
        "id": "JHiwgkvsGfVD"
      },
      "outputs": [],
      "source": [
        "\n",
        "data_collator = DataCollatorForSeq2Seq(tokenizer, model=model, return_tensors=\"pt\")\n",
        "\n",
        "\n",
        "training_args = Seq2SeqTrainingArguments(\"/content/results/\",\n",
        "                                      do_train=True,\n",
        "                                      do_eval=True,\n",
        "                                      num_train_epochs=30,\n",
        "                                      learning_rate=1e-5,\n",
        "                                      warmup_ratio=0.05,\n",
        "                                      weight_decay=0.01,\n",
        "                                      per_device_train_batch_size=4,\n",
        "                                      per_device_eval_batch_size=4,\n",
        "                                      logging_dir='./log',\n",
        "                                      group_by_length=True,\n",
        "                                      save_strategy=\"epoch\",\n",
        "                                      save_total_limit=3,\n",
        "                                      evaluation_strategy=\"epoch\",\n",
        "                                      fp16=True,\n",
        "                                      )\n",
        "\n",
        "\n",
        "\n",
        "# AdaFactor for ViT5-large models as it based on T5v1.1.\n",
        "# See https://medium.com/the-artificial-impostor/paper-adafactor-adaptive-learning-rates-with-sublinear-memory-cost-a543abffa37\n",
        "#\n",
        "# from transformers.optimization import Adafactor, AdafactorSchedule\n",
        "# optimizer = Adafactor(\n",
        "#     model.parameters(),\n",
        "#     lr=1e-3,\n",
        "#     eps=(1e-30, 1e-3),\n",
        "#     clip_threshold=1.0,\n",
        "#     decay_rate=-0.8,\n",
        "#     beta1=None,\n",
        "#     weight_decay=0.0,\n",
        "#     relative_step=False,\n",
        "#     scale_parameter=False,\n",
        "#     warmup_init=False\n",
        "# )\n",
        "# lr_scheduler = AdafactorSchedule(optimizer)"
      ]
    },
    {
      "cell_type": "code",
      "execution_count": null,
      "metadata": {
        "id": "2lnrMZZJHro8",
        "colab": {
          "base_uri": "https://localhost:8080/",
          "height": 1000
        },
        "outputId": "388937bc-d58d-4652-fff9-b232e58fad63"
      },
      "outputs": [
        {
          "output_type": "display_data",
          "data": {
            "text/plain": [
              "<IPython.core.display.HTML object>"
            ],
            "text/html": [
              "\n",
              "    <div>\n",
              "      \n",
              "      <progress value='5880' max='5880' style='width:300px; height:20px; vertical-align: middle;'></progress>\n",
              "      [5880/5880 31:52, Epoch 30/30]\n",
              "    </div>\n",
              "    <table border=\"1\" class=\"dataframe\">\n",
              "  <thead>\n",
              " <tr style=\"text-align: left;\">\n",
              "      <th>Epoch</th>\n",
              "      <th>Training Loss</th>\n",
              "      <th>Validation Loss</th>\n",
              "    </tr>\n",
              "  </thead>\n",
              "  <tbody>\n",
              "    <tr>\n",
              "      <td>1</td>\n",
              "      <td>No log</td>\n",
              "      <td>1.232437</td>\n",
              "    </tr>\n",
              "    <tr>\n",
              "      <td>2</td>\n",
              "      <td>No log</td>\n",
              "      <td>0.501309</td>\n",
              "    </tr>\n",
              "    <tr>\n",
              "      <td>3</td>\n",
              "      <td>4.064300</td>\n",
              "      <td>0.326283</td>\n",
              "    </tr>\n",
              "    <tr>\n",
              "      <td>4</td>\n",
              "      <td>4.064300</td>\n",
              "      <td>0.215991</td>\n",
              "    </tr>\n",
              "    <tr>\n",
              "      <td>5</td>\n",
              "      <td>4.064300</td>\n",
              "      <td>0.166128</td>\n",
              "    </tr>\n",
              "    <tr>\n",
              "      <td>6</td>\n",
              "      <td>0.398100</td>\n",
              "      <td>0.117687</td>\n",
              "    </tr>\n",
              "    <tr>\n",
              "      <td>7</td>\n",
              "      <td>0.398100</td>\n",
              "      <td>0.093830</td>\n",
              "    </tr>\n",
              "    <tr>\n",
              "      <td>8</td>\n",
              "      <td>0.215000</td>\n",
              "      <td>0.073551</td>\n",
              "    </tr>\n",
              "    <tr>\n",
              "      <td>9</td>\n",
              "      <td>0.215000</td>\n",
              "      <td>0.065252</td>\n",
              "    </tr>\n",
              "    <tr>\n",
              "      <td>10</td>\n",
              "      <td>0.215000</td>\n",
              "      <td>0.056522</td>\n",
              "    </tr>\n",
              "    <tr>\n",
              "      <td>11</td>\n",
              "      <td>0.127700</td>\n",
              "      <td>0.049410</td>\n",
              "    </tr>\n",
              "    <tr>\n",
              "      <td>12</td>\n",
              "      <td>0.127700</td>\n",
              "      <td>0.044359</td>\n",
              "    </tr>\n",
              "    <tr>\n",
              "      <td>13</td>\n",
              "      <td>0.083800</td>\n",
              "      <td>0.044171</td>\n",
              "    </tr>\n",
              "    <tr>\n",
              "      <td>14</td>\n",
              "      <td>0.083800</td>\n",
              "      <td>0.044954</td>\n",
              "    </tr>\n",
              "    <tr>\n",
              "      <td>15</td>\n",
              "      <td>0.083800</td>\n",
              "      <td>0.043150</td>\n",
              "    </tr>\n",
              "    <tr>\n",
              "      <td>16</td>\n",
              "      <td>0.058400</td>\n",
              "      <td>0.043524</td>\n",
              "    </tr>\n",
              "    <tr>\n",
              "      <td>17</td>\n",
              "      <td>0.058400</td>\n",
              "      <td>0.043263</td>\n",
              "    </tr>\n",
              "    <tr>\n",
              "      <td>18</td>\n",
              "      <td>0.041800</td>\n",
              "      <td>0.044288</td>\n",
              "    </tr>\n",
              "    <tr>\n",
              "      <td>19</td>\n",
              "      <td>0.041800</td>\n",
              "      <td>0.044484</td>\n",
              "    </tr>\n",
              "    <tr>\n",
              "      <td>20</td>\n",
              "      <td>0.041800</td>\n",
              "      <td>0.043666</td>\n",
              "    </tr>\n",
              "    <tr>\n",
              "      <td>21</td>\n",
              "      <td>0.033900</td>\n",
              "      <td>0.044599</td>\n",
              "    </tr>\n",
              "    <tr>\n",
              "      <td>22</td>\n",
              "      <td>0.033900</td>\n",
              "      <td>0.044242</td>\n",
              "    </tr>\n",
              "    <tr>\n",
              "      <td>23</td>\n",
              "      <td>0.026800</td>\n",
              "      <td>0.044255</td>\n",
              "    </tr>\n",
              "    <tr>\n",
              "      <td>24</td>\n",
              "      <td>0.026800</td>\n",
              "      <td>0.045493</td>\n",
              "    </tr>\n",
              "    <tr>\n",
              "      <td>25</td>\n",
              "      <td>0.026800</td>\n",
              "      <td>0.045360</td>\n",
              "    </tr>\n",
              "    <tr>\n",
              "      <td>26</td>\n",
              "      <td>0.019100</td>\n",
              "      <td>0.044943</td>\n",
              "    </tr>\n",
              "    <tr>\n",
              "      <td>27</td>\n",
              "      <td>0.019100</td>\n",
              "      <td>0.045125</td>\n",
              "    </tr>\n",
              "    <tr>\n",
              "      <td>28</td>\n",
              "      <td>0.019100</td>\n",
              "      <td>0.045002</td>\n",
              "    </tr>\n",
              "    <tr>\n",
              "      <td>29</td>\n",
              "      <td>0.016900</td>\n",
              "      <td>0.045082</td>\n",
              "    </tr>\n",
              "    <tr>\n",
              "      <td>30</td>\n",
              "      <td>0.016900</td>\n",
              "      <td>0.045198</td>\n",
              "    </tr>\n",
              "  </tbody>\n",
              "</table><p>"
            ]
          },
          "metadata": {}
        },
        {
          "output_type": "execute_result",
          "data": {
            "text/plain": [
              "TrainOutput(global_step=5880, training_loss=0.43347855668489627, metrics={'train_runtime': 1912.4684, 'train_samples_per_second': 12.283, 'train_steps_per_second': 3.075, 'total_flos': 941846148679680.0, 'train_loss': 0.43347855668489627, 'epoch': 30.0})"
            ]
          },
          "metadata": {},
          "execution_count": 12
        }
      ],
      "source": [
        "trainer = Seq2SeqTrainer(\n",
        "    model=model,\n",
        "    args=training_args,\n",
        "    train_dataset=tokenized_train_datasets,\n",
        "    eval_dataset= tokenized_val_datasets,\n",
        "    data_collator=data_collator,\n",
        ")\n",
        "\n",
        "trainer.train()"
      ]
    },
    {
      "cell_type": "markdown",
      "metadata": {
        "id": "XzEWbrNMSo8c"
      },
      "source": [
        "## Evaluation"
      ]
    },
    {
      "cell_type": "code",
      "execution_count": null,
      "metadata": {
        "colab": {
          "base_uri": "https://localhost:8080/",
          "height": 104,
          "referenced_widgets": [
            "412a93c589a94881a9d5934f31769b7c",
            "7362d4118a9a4c1c8d5e47168ea291a7",
            "24e108f7787a41db8698f7f53f9a6d8a",
            "47b97e9118484600a740fb86340ccd55",
            "1d942988c15948e5b313a120e2957fe5",
            "e154940f10af47fc8fe0d739d0d897e6",
            "3d5f1ae7fa674e40935952cc2109fb5c",
            "9fabad98debc462395c6e0ff6fc4b89d",
            "ba12329ab611417caf9c175c1ad38817",
            "6a8fd529a9e340ce9894d3e936e85e8a",
            "300a187ed5224da0a0f15334ebe5ea2c"
          ]
        },
        "id": "BHCiygFJ7RhP",
        "outputId": "41e94e9b-d4c5-4118-f0e1-d4aa0a9dc115"
      },
      "outputs": [
        {
          "output_type": "stream",
          "name": "stderr",
          "text": [
            "<ipython-input-13-ffe5587f2e49>:2: FutureWarning: load_metric is deprecated and will be removed in the next major version of datasets. Use 'evaluate.load' instead, from the new library 🤗 Evaluate: https://huggingface.co/docs/evaluate\n",
            "  metric = load_metric(\"rouge\")\n"
          ]
        },
        {
          "output_type": "display_data",
          "data": {
            "text/plain": [
              "Downloading builder script:   0%|          | 0.00/2.17k [00:00<?, ?B/s]"
            ],
            "application/vnd.jupyter.widget-view+json": {
              "version_major": 2,
              "version_minor": 0,
              "model_id": "412a93c589a94881a9d5934f31769b7c"
            }
          },
          "metadata": {}
        }
      ],
      "source": [
        "from datasets import load_metric\n",
        "metric = load_metric(\"rouge\")"
      ]
    },
    {
      "cell_type": "code",
      "execution_count": null,
      "metadata": {
        "id": "Tk_hB4b-8GkP"
      },
      "outputs": [],
      "source": [
        "model = AutoModelForSeq2SeqLM.from_pretrained(\"/content/results/checkpoint-5488\")\n",
        "model.to('cuda')"
      ]
    },
    {
      "cell_type": "code",
      "execution_count": null,
      "metadata": {
        "id": "54ckcdzG7Xlc",
        "colab": {
          "base_uri": "https://localhost:8080/",
          "height": 243,
          "referenced_widgets": [
            "222c35b56b8e4fd28b14ec89a7fd1a9c",
            "5752468b3a7941b5aa906bb41f2b595a",
            "acd2acc2cd9640c2bfd8d4929b0e4ee7",
            "523aea26288f4008afcfe29028332f12",
            "fc37118d7afc42f2b4c2f8cdc0dbff8c",
            "09edd460cc98433ba5013d7015775997",
            "2e01f440ba484196b5cc6231999bc2be",
            "60493355213a43aea1164b669f86910e",
            "01ea425f9df34d4398b0231e301ba9b0",
            "c23517d55b4e40ab94335f7a70de1cd3",
            "6d20d39108644d3990e12e7cc689666d"
          ]
        },
        "outputId": "7090a45d-837e-40a6-c3ac-4f24e51ecf58"
      },
      "outputs": [
        {
          "output_type": "display_data",
          "data": {
            "text/plain": [
              "  0%|          | 0/29 [00:00<?, ?it/s]"
            ],
            "application/vnd.jupyter.widget-view+json": {
              "version_major": 2,
              "version_minor": 0,
              "model_id": "222c35b56b8e4fd28b14ec89a7fd1a9c"
            }
          },
          "metadata": {}
        },
        {
          "output_type": "stream",
          "name": "stderr",
          "text": [
            "/usr/local/lib/python3.10/dist-packages/transformers/tokenization_utils_base.py:3635: UserWarning: `as_target_tokenizer` is deprecated and will be removed in v5 of Transformers. You can tokenize your labels by using the argument `text_target` of the regular `__call__` method (either in the same call as your input texts if you use the same keyword arguments, or in a separate call.\n",
            "  warnings.warn(\n"
          ]
        },
        {
          "output_type": "execute_result",
          "data": {
            "text/plain": [
              "{'rouge1': AggregateScore(low=Score(precision=0.9778395630443119, recall=0.9764709530775012, fmeasure=0.9754667209125588), mid=Score(precision=0.9830410955843725, recall=0.9815410848763784, fmeasure=0.9802588440680129), high=Score(precision=0.987763198796047, recall=0.9866135927601867, fmeasure=0.9850410536531697)),\n",
              " 'rouge2': AggregateScore(low=Score(precision=0.9475181662076251, recall=0.9467116956210816, fmeasure=0.9449757231914465), mid=Score(precision=0.95721004532402, recall=0.9568767202090198, fmeasure=0.954940183685411), high=Score(precision=0.9661960060667094, recall=0.9655882392503778, fmeasure=0.9636712584329362)),\n",
              " 'rougeL': AggregateScore(low=Score(precision=0.9648847109502823, recall=0.963623299059482, fmeasure=0.9625539630881536), mid=Score(precision=0.9714899530355359, recall=0.9706146487257394, fmeasure=0.9690991254371703), high=Score(precision=0.977641330638732, recall=0.9771714264292248, fmeasure=0.9752958521187943)),\n",
              " 'rougeLsum': AggregateScore(low=Score(precision=0.9647419492861249, recall=0.9634555595161227, fmeasure=0.9624273374663733), mid=Score(precision=0.9712767896134749, recall=0.970267626819685, fmeasure=0.9688122559022752), high=Score(precision=0.9767650019878035, recall=0.9765424373179906, fmeasure=0.974767868686157))}"
            ]
          },
          "metadata": {},
          "execution_count": 17
        }
      ],
      "source": [
        "import torch\n",
        "import numpy as np\n",
        "metrics = load_metric('rouge')\n",
        "\n",
        "max_target_length = 256\n",
        "dataloader = torch.utils.data.DataLoader(tokenized_test_datasets, collate_fn=data_collator, batch_size=32)\n",
        "\n",
        "predictions = []\n",
        "references = []\n",
        "for i, batch in enumerate(tqdm(dataloader)):\n",
        "  outputs = model.generate(\n",
        "      input_ids=batch['input_ids'].to('cuda'),\n",
        "      max_length=max_target_length,\n",
        "      attention_mask=batch['attention_mask'].to('cuda'),\n",
        "  )\n",
        "  with tokenizer.as_target_tokenizer():\n",
        "    outputs = [tokenizer.decode(out, clean_up_tokenization_spaces=False, skip_special_tokens=True) for out in outputs]\n",
        "\n",
        "    labels = np.where(batch['labels'] != -100,  batch['labels'], tokenizer.pad_token_id)\n",
        "    actuals = [tokenizer.decode(out, clean_up_tokenization_spaces=False, skip_special_tokens=True) for out in labels]\n",
        "  predictions.extend(outputs)\n",
        "  references.extend(actuals)\n",
        "  metrics.add_batch(predictions=outputs, references=actuals)\n",
        "\n",
        "metrics.compute()"
      ]
    },
    {
      "cell_type": "code",
      "execution_count": null,
      "metadata": {
        "id": "pXJrSJVz7cOM",
        "colab": {
          "base_uri": "https://localhost:8080/"
        },
        "outputId": "e15eec41-f2bf-45cf-f4be-75dd9a3ab6a1"
      },
      "outputs": [
        {
          "output_type": "execute_result",
          "data": {
            "text/plain": [
              "[{'rouge1': 0.9753578292151317},\n",
              " {'rouge2': 0.9414661406960341},\n",
              " {'rougeL': 0.960186499064932},\n",
              " {'rougeLsum': 0.9603734827380485}]"
            ]
          },
          "metadata": {},
          "execution_count": 22
        }
      ],
      "source": [
        "[{k: v.mid.fmeasure} for k,v in metrics.compute(predictions=predictions, references=references).items()]"
      ]
    },
    {
      "cell_type": "markdown",
      "source": [
        "# Inference"
      ],
      "metadata": {
        "id": "W7NOt9pmIsJU"
      }
    },
    {
      "cell_type": "code",
      "source": [
        "tokenizer = AutoTokenizer.from_pretrained(\"VietAI/vit5-base\")\n",
        "model = AutoModelForSeq2SeqLM.from_pretrained(\"Thuong/vsl_baseline\")\n",
        "model.to('cuda')"
      ],
      "metadata": {
        "id": "k2hE8VudFerC"
      },
      "execution_count": null,
      "outputs": []
    },
    {
      "cell_type": "code",
      "source": [
        "sentence = \"Mưa lũ sạt lở đường ở vùng núi phía Bắc.\"\n",
        "text =  sentence + \" </s>\"\n",
        "encoding = tokenizer(text, return_tensors=\"pt\")\n",
        "input_ids, attention_masks = encoding[\"input_ids\"].to(\"cuda\"), encoding[\"attention_mask\"].to(\"cuda\")\n",
        "outputs = model.generate(\n",
        "    input_ids=input_ids, attention_mask=attention_masks,\n",
        "    max_length=256,\n",
        "    early_stopping=True\n",
        ")\n",
        "for output in outputs:\n",
        "    line = tokenizer.decode(output, skip_special_tokens=True, clean_up_tokenization_spaces=True)\n",
        "    print(line)"
      ],
      "metadata": {
        "colab": {
          "base_uri": "https://localhost:8080/"
        },
        "id": "Vfxis-fR_I_X",
        "outputId": "b65ab27c-aafe-40de-882b-6d463dc7220a"
      },
      "execution_count": null,
      "outputs": [
        {
          "output_type": "stream",
          "name": "stdout",
          "text": [
            "mưa lũ sạt lở đường ở vùng núi phía Bắc\n"
          ]
        }
      ]
    },
    {
      "cell_type": "markdown",
      "source": [
        "## Upload to Huggingface Hub"
      ],
      "metadata": {
        "id": "G-zKZaQaIz-3"
      }
    },
    {
      "cell_type": "code",
      "source": [
        "from huggingface_hub import HfApi\n",
        "\n",
        "from huggingface_hub import notebook_login\n",
        "notebook_login()\n",
        "\n",
        "api = HfApi()\n",
        "username = api.whoami()['name']\n",
        "\n",
        "try:\n",
        "  api.create_repo(repo_id=\"Thuong/vsl_baseline_2\")\n",
        "  print(\"Successfully created repository !\")\n",
        "except Exception as e:\n",
        "  print(\"Repository is possibly already created. Refer to error here - \\n\\n\", e)\n",
        "\n",
        "api.upload_folder(\n",
        "    folder_path=\"/content/results/checkpoint-5880\",\n",
        "    repo_id=\"Thuong/vsl_baseline_2\",\n",
        ")"
      ],
      "metadata": {
        "id": "bvGb08tyEjFJ"
      },
      "execution_count": null,
      "outputs": []
    }
  ],
  "metadata": {
    "colab": {
      "provenance": [],
      "gpuType": "T4"
    },
    "kernelspec": {
      "display_name": "Python 3",
      "name": "python3"
    },
    "language_info": {
      "name": "python",
      "version": "3.9.7"
    },
    "vscode": {
      "interpreter": {
        "hash": "eedb55a3f3d5a08c90a45b02edd9d5201f64a9996f64fdac14a22b56503f46e8"
      }
    },
    "widgets": {
      "application/vnd.jupyter.widget-state+json": {
        "412a93c589a94881a9d5934f31769b7c": {
          "model_module": "@jupyter-widgets/controls",
          "model_name": "HBoxModel",
          "model_module_version": "1.5.0",
          "state": {
            "_dom_classes": [],
            "_model_module": "@jupyter-widgets/controls",
            "_model_module_version": "1.5.0",
            "_model_name": "HBoxModel",
            "_view_count": null,
            "_view_module": "@jupyter-widgets/controls",
            "_view_module_version": "1.5.0",
            "_view_name": "HBoxView",
            "box_style": "",
            "children": [
              "IPY_MODEL_7362d4118a9a4c1c8d5e47168ea291a7",
              "IPY_MODEL_24e108f7787a41db8698f7f53f9a6d8a",
              "IPY_MODEL_47b97e9118484600a740fb86340ccd55"
            ],
            "layout": "IPY_MODEL_1d942988c15948e5b313a120e2957fe5"
          }
        },
        "7362d4118a9a4c1c8d5e47168ea291a7": {
          "model_module": "@jupyter-widgets/controls",
          "model_name": "HTMLModel",
          "model_module_version": "1.5.0",
          "state": {
            "_dom_classes": [],
            "_model_module": "@jupyter-widgets/controls",
            "_model_module_version": "1.5.0",
            "_model_name": "HTMLModel",
            "_view_count": null,
            "_view_module": "@jupyter-widgets/controls",
            "_view_module_version": "1.5.0",
            "_view_name": "HTMLView",
            "description": "",
            "description_tooltip": null,
            "layout": "IPY_MODEL_e154940f10af47fc8fe0d739d0d897e6",
            "placeholder": "​",
            "style": "IPY_MODEL_3d5f1ae7fa674e40935952cc2109fb5c",
            "value": "Downloading builder script: "
          }
        },
        "24e108f7787a41db8698f7f53f9a6d8a": {
          "model_module": "@jupyter-widgets/controls",
          "model_name": "FloatProgressModel",
          "model_module_version": "1.5.0",
          "state": {
            "_dom_classes": [],
            "_model_module": "@jupyter-widgets/controls",
            "_model_module_version": "1.5.0",
            "_model_name": "FloatProgressModel",
            "_view_count": null,
            "_view_module": "@jupyter-widgets/controls",
            "_view_module_version": "1.5.0",
            "_view_name": "ProgressView",
            "bar_style": "success",
            "description": "",
            "description_tooltip": null,
            "layout": "IPY_MODEL_9fabad98debc462395c6e0ff6fc4b89d",
            "max": 2169,
            "min": 0,
            "orientation": "horizontal",
            "style": "IPY_MODEL_ba12329ab611417caf9c175c1ad38817",
            "value": 2169
          }
        },
        "47b97e9118484600a740fb86340ccd55": {
          "model_module": "@jupyter-widgets/controls",
          "model_name": "HTMLModel",
          "model_module_version": "1.5.0",
          "state": {
            "_dom_classes": [],
            "_model_module": "@jupyter-widgets/controls",
            "_model_module_version": "1.5.0",
            "_model_name": "HTMLModel",
            "_view_count": null,
            "_view_module": "@jupyter-widgets/controls",
            "_view_module_version": "1.5.0",
            "_view_name": "HTMLView",
            "description": "",
            "description_tooltip": null,
            "layout": "IPY_MODEL_6a8fd529a9e340ce9894d3e936e85e8a",
            "placeholder": "​",
            "style": "IPY_MODEL_300a187ed5224da0a0f15334ebe5ea2c",
            "value": " 5.65k/? [00:00&lt;00:00, 265kB/s]"
          }
        },
        "1d942988c15948e5b313a120e2957fe5": {
          "model_module": "@jupyter-widgets/base",
          "model_name": "LayoutModel",
          "model_module_version": "1.2.0",
          "state": {
            "_model_module": "@jupyter-widgets/base",
            "_model_module_version": "1.2.0",
            "_model_name": "LayoutModel",
            "_view_count": null,
            "_view_module": "@jupyter-widgets/base",
            "_view_module_version": "1.2.0",
            "_view_name": "LayoutView",
            "align_content": null,
            "align_items": null,
            "align_self": null,
            "border": null,
            "bottom": null,
            "display": null,
            "flex": null,
            "flex_flow": null,
            "grid_area": null,
            "grid_auto_columns": null,
            "grid_auto_flow": null,
            "grid_auto_rows": null,
            "grid_column": null,
            "grid_gap": null,
            "grid_row": null,
            "grid_template_areas": null,
            "grid_template_columns": null,
            "grid_template_rows": null,
            "height": null,
            "justify_content": null,
            "justify_items": null,
            "left": null,
            "margin": null,
            "max_height": null,
            "max_width": null,
            "min_height": null,
            "min_width": null,
            "object_fit": null,
            "object_position": null,
            "order": null,
            "overflow": null,
            "overflow_x": null,
            "overflow_y": null,
            "padding": null,
            "right": null,
            "top": null,
            "visibility": null,
            "width": null
          }
        },
        "e154940f10af47fc8fe0d739d0d897e6": {
          "model_module": "@jupyter-widgets/base",
          "model_name": "LayoutModel",
          "model_module_version": "1.2.0",
          "state": {
            "_model_module": "@jupyter-widgets/base",
            "_model_module_version": "1.2.0",
            "_model_name": "LayoutModel",
            "_view_count": null,
            "_view_module": "@jupyter-widgets/base",
            "_view_module_version": "1.2.0",
            "_view_name": "LayoutView",
            "align_content": null,
            "align_items": null,
            "align_self": null,
            "border": null,
            "bottom": null,
            "display": null,
            "flex": null,
            "flex_flow": null,
            "grid_area": null,
            "grid_auto_columns": null,
            "grid_auto_flow": null,
            "grid_auto_rows": null,
            "grid_column": null,
            "grid_gap": null,
            "grid_row": null,
            "grid_template_areas": null,
            "grid_template_columns": null,
            "grid_template_rows": null,
            "height": null,
            "justify_content": null,
            "justify_items": null,
            "left": null,
            "margin": null,
            "max_height": null,
            "max_width": null,
            "min_height": null,
            "min_width": null,
            "object_fit": null,
            "object_position": null,
            "order": null,
            "overflow": null,
            "overflow_x": null,
            "overflow_y": null,
            "padding": null,
            "right": null,
            "top": null,
            "visibility": null,
            "width": null
          }
        },
        "3d5f1ae7fa674e40935952cc2109fb5c": {
          "model_module": "@jupyter-widgets/controls",
          "model_name": "DescriptionStyleModel",
          "model_module_version": "1.5.0",
          "state": {
            "_model_module": "@jupyter-widgets/controls",
            "_model_module_version": "1.5.0",
            "_model_name": "DescriptionStyleModel",
            "_view_count": null,
            "_view_module": "@jupyter-widgets/base",
            "_view_module_version": "1.2.0",
            "_view_name": "StyleView",
            "description_width": ""
          }
        },
        "9fabad98debc462395c6e0ff6fc4b89d": {
          "model_module": "@jupyter-widgets/base",
          "model_name": "LayoutModel",
          "model_module_version": "1.2.0",
          "state": {
            "_model_module": "@jupyter-widgets/base",
            "_model_module_version": "1.2.0",
            "_model_name": "LayoutModel",
            "_view_count": null,
            "_view_module": "@jupyter-widgets/base",
            "_view_module_version": "1.2.0",
            "_view_name": "LayoutView",
            "align_content": null,
            "align_items": null,
            "align_self": null,
            "border": null,
            "bottom": null,
            "display": null,
            "flex": null,
            "flex_flow": null,
            "grid_area": null,
            "grid_auto_columns": null,
            "grid_auto_flow": null,
            "grid_auto_rows": null,
            "grid_column": null,
            "grid_gap": null,
            "grid_row": null,
            "grid_template_areas": null,
            "grid_template_columns": null,
            "grid_template_rows": null,
            "height": null,
            "justify_content": null,
            "justify_items": null,
            "left": null,
            "margin": null,
            "max_height": null,
            "max_width": null,
            "min_height": null,
            "min_width": null,
            "object_fit": null,
            "object_position": null,
            "order": null,
            "overflow": null,
            "overflow_x": null,
            "overflow_y": null,
            "padding": null,
            "right": null,
            "top": null,
            "visibility": null,
            "width": null
          }
        },
        "ba12329ab611417caf9c175c1ad38817": {
          "model_module": "@jupyter-widgets/controls",
          "model_name": "ProgressStyleModel",
          "model_module_version": "1.5.0",
          "state": {
            "_model_module": "@jupyter-widgets/controls",
            "_model_module_version": "1.5.0",
            "_model_name": "ProgressStyleModel",
            "_view_count": null,
            "_view_module": "@jupyter-widgets/base",
            "_view_module_version": "1.2.0",
            "_view_name": "StyleView",
            "bar_color": null,
            "description_width": ""
          }
        },
        "6a8fd529a9e340ce9894d3e936e85e8a": {
          "model_module": "@jupyter-widgets/base",
          "model_name": "LayoutModel",
          "model_module_version": "1.2.0",
          "state": {
            "_model_module": "@jupyter-widgets/base",
            "_model_module_version": "1.2.0",
            "_model_name": "LayoutModel",
            "_view_count": null,
            "_view_module": "@jupyter-widgets/base",
            "_view_module_version": "1.2.0",
            "_view_name": "LayoutView",
            "align_content": null,
            "align_items": null,
            "align_self": null,
            "border": null,
            "bottom": null,
            "display": null,
            "flex": null,
            "flex_flow": null,
            "grid_area": null,
            "grid_auto_columns": null,
            "grid_auto_flow": null,
            "grid_auto_rows": null,
            "grid_column": null,
            "grid_gap": null,
            "grid_row": null,
            "grid_template_areas": null,
            "grid_template_columns": null,
            "grid_template_rows": null,
            "height": null,
            "justify_content": null,
            "justify_items": null,
            "left": null,
            "margin": null,
            "max_height": null,
            "max_width": null,
            "min_height": null,
            "min_width": null,
            "object_fit": null,
            "object_position": null,
            "order": null,
            "overflow": null,
            "overflow_x": null,
            "overflow_y": null,
            "padding": null,
            "right": null,
            "top": null,
            "visibility": null,
            "width": null
          }
        },
        "300a187ed5224da0a0f15334ebe5ea2c": {
          "model_module": "@jupyter-widgets/controls",
          "model_name": "DescriptionStyleModel",
          "model_module_version": "1.5.0",
          "state": {
            "_model_module": "@jupyter-widgets/controls",
            "_model_module_version": "1.5.0",
            "_model_name": "DescriptionStyleModel",
            "_view_count": null,
            "_view_module": "@jupyter-widgets/base",
            "_view_module_version": "1.2.0",
            "_view_name": "StyleView",
            "description_width": ""
          }
        },
        "222c35b56b8e4fd28b14ec89a7fd1a9c": {
          "model_module": "@jupyter-widgets/controls",
          "model_name": "HBoxModel",
          "model_module_version": "1.5.0",
          "state": {
            "_dom_classes": [],
            "_model_module": "@jupyter-widgets/controls",
            "_model_module_version": "1.5.0",
            "_model_name": "HBoxModel",
            "_view_count": null,
            "_view_module": "@jupyter-widgets/controls",
            "_view_module_version": "1.5.0",
            "_view_name": "HBoxView",
            "box_style": "",
            "children": [
              "IPY_MODEL_5752468b3a7941b5aa906bb41f2b595a",
              "IPY_MODEL_acd2acc2cd9640c2bfd8d4929b0e4ee7",
              "IPY_MODEL_523aea26288f4008afcfe29028332f12"
            ],
            "layout": "IPY_MODEL_fc37118d7afc42f2b4c2f8cdc0dbff8c"
          }
        },
        "5752468b3a7941b5aa906bb41f2b595a": {
          "model_module": "@jupyter-widgets/controls",
          "model_name": "HTMLModel",
          "model_module_version": "1.5.0",
          "state": {
            "_dom_classes": [],
            "_model_module": "@jupyter-widgets/controls",
            "_model_module_version": "1.5.0",
            "_model_name": "HTMLModel",
            "_view_count": null,
            "_view_module": "@jupyter-widgets/controls",
            "_view_module_version": "1.5.0",
            "_view_name": "HTMLView",
            "description": "",
            "description_tooltip": null,
            "layout": "IPY_MODEL_09edd460cc98433ba5013d7015775997",
            "placeholder": "​",
            "style": "IPY_MODEL_2e01f440ba484196b5cc6231999bc2be",
            "value": "100%"
          }
        },
        "acd2acc2cd9640c2bfd8d4929b0e4ee7": {
          "model_module": "@jupyter-widgets/controls",
          "model_name": "FloatProgressModel",
          "model_module_version": "1.5.0",
          "state": {
            "_dom_classes": [],
            "_model_module": "@jupyter-widgets/controls",
            "_model_module_version": "1.5.0",
            "_model_name": "FloatProgressModel",
            "_view_count": null,
            "_view_module": "@jupyter-widgets/controls",
            "_view_module_version": "1.5.0",
            "_view_name": "ProgressView",
            "bar_style": "success",
            "description": "",
            "description_tooltip": null,
            "layout": "IPY_MODEL_60493355213a43aea1164b669f86910e",
            "max": 29,
            "min": 0,
            "orientation": "horizontal",
            "style": "IPY_MODEL_01ea425f9df34d4398b0231e301ba9b0",
            "value": 29
          }
        },
        "523aea26288f4008afcfe29028332f12": {
          "model_module": "@jupyter-widgets/controls",
          "model_name": "HTMLModel",
          "model_module_version": "1.5.0",
          "state": {
            "_dom_classes": [],
            "_model_module": "@jupyter-widgets/controls",
            "_model_module_version": "1.5.0",
            "_model_name": "HTMLModel",
            "_view_count": null,
            "_view_module": "@jupyter-widgets/controls",
            "_view_module_version": "1.5.0",
            "_view_name": "HTMLView",
            "description": "",
            "description_tooltip": null,
            "layout": "IPY_MODEL_c23517d55b4e40ab94335f7a70de1cd3",
            "placeholder": "​",
            "style": "IPY_MODEL_6d20d39108644d3990e12e7cc689666d",
            "value": " 29/29 [00:23&lt;00:00,  2.67it/s]"
          }
        },
        "fc37118d7afc42f2b4c2f8cdc0dbff8c": {
          "model_module": "@jupyter-widgets/base",
          "model_name": "LayoutModel",
          "model_module_version": "1.2.0",
          "state": {
            "_model_module": "@jupyter-widgets/base",
            "_model_module_version": "1.2.0",
            "_model_name": "LayoutModel",
            "_view_count": null,
            "_view_module": "@jupyter-widgets/base",
            "_view_module_version": "1.2.0",
            "_view_name": "LayoutView",
            "align_content": null,
            "align_items": null,
            "align_self": null,
            "border": null,
            "bottom": null,
            "display": null,
            "flex": null,
            "flex_flow": null,
            "grid_area": null,
            "grid_auto_columns": null,
            "grid_auto_flow": null,
            "grid_auto_rows": null,
            "grid_column": null,
            "grid_gap": null,
            "grid_row": null,
            "grid_template_areas": null,
            "grid_template_columns": null,
            "grid_template_rows": null,
            "height": null,
            "justify_content": null,
            "justify_items": null,
            "left": null,
            "margin": null,
            "max_height": null,
            "max_width": null,
            "min_height": null,
            "min_width": null,
            "object_fit": null,
            "object_position": null,
            "order": null,
            "overflow": null,
            "overflow_x": null,
            "overflow_y": null,
            "padding": null,
            "right": null,
            "top": null,
            "visibility": null,
            "width": null
          }
        },
        "09edd460cc98433ba5013d7015775997": {
          "model_module": "@jupyter-widgets/base",
          "model_name": "LayoutModel",
          "model_module_version": "1.2.0",
          "state": {
            "_model_module": "@jupyter-widgets/base",
            "_model_module_version": "1.2.0",
            "_model_name": "LayoutModel",
            "_view_count": null,
            "_view_module": "@jupyter-widgets/base",
            "_view_module_version": "1.2.0",
            "_view_name": "LayoutView",
            "align_content": null,
            "align_items": null,
            "align_self": null,
            "border": null,
            "bottom": null,
            "display": null,
            "flex": null,
            "flex_flow": null,
            "grid_area": null,
            "grid_auto_columns": null,
            "grid_auto_flow": null,
            "grid_auto_rows": null,
            "grid_column": null,
            "grid_gap": null,
            "grid_row": null,
            "grid_template_areas": null,
            "grid_template_columns": null,
            "grid_template_rows": null,
            "height": null,
            "justify_content": null,
            "justify_items": null,
            "left": null,
            "margin": null,
            "max_height": null,
            "max_width": null,
            "min_height": null,
            "min_width": null,
            "object_fit": null,
            "object_position": null,
            "order": null,
            "overflow": null,
            "overflow_x": null,
            "overflow_y": null,
            "padding": null,
            "right": null,
            "top": null,
            "visibility": null,
            "width": null
          }
        },
        "2e01f440ba484196b5cc6231999bc2be": {
          "model_module": "@jupyter-widgets/controls",
          "model_name": "DescriptionStyleModel",
          "model_module_version": "1.5.0",
          "state": {
            "_model_module": "@jupyter-widgets/controls",
            "_model_module_version": "1.5.0",
            "_model_name": "DescriptionStyleModel",
            "_view_count": null,
            "_view_module": "@jupyter-widgets/base",
            "_view_module_version": "1.2.0",
            "_view_name": "StyleView",
            "description_width": ""
          }
        },
        "60493355213a43aea1164b669f86910e": {
          "model_module": "@jupyter-widgets/base",
          "model_name": "LayoutModel",
          "model_module_version": "1.2.0",
          "state": {
            "_model_module": "@jupyter-widgets/base",
            "_model_module_version": "1.2.0",
            "_model_name": "LayoutModel",
            "_view_count": null,
            "_view_module": "@jupyter-widgets/base",
            "_view_module_version": "1.2.0",
            "_view_name": "LayoutView",
            "align_content": null,
            "align_items": null,
            "align_self": null,
            "border": null,
            "bottom": null,
            "display": null,
            "flex": null,
            "flex_flow": null,
            "grid_area": null,
            "grid_auto_columns": null,
            "grid_auto_flow": null,
            "grid_auto_rows": null,
            "grid_column": null,
            "grid_gap": null,
            "grid_row": null,
            "grid_template_areas": null,
            "grid_template_columns": null,
            "grid_template_rows": null,
            "height": null,
            "justify_content": null,
            "justify_items": null,
            "left": null,
            "margin": null,
            "max_height": null,
            "max_width": null,
            "min_height": null,
            "min_width": null,
            "object_fit": null,
            "object_position": null,
            "order": null,
            "overflow": null,
            "overflow_x": null,
            "overflow_y": null,
            "padding": null,
            "right": null,
            "top": null,
            "visibility": null,
            "width": null
          }
        },
        "01ea425f9df34d4398b0231e301ba9b0": {
          "model_module": "@jupyter-widgets/controls",
          "model_name": "ProgressStyleModel",
          "model_module_version": "1.5.0",
          "state": {
            "_model_module": "@jupyter-widgets/controls",
            "_model_module_version": "1.5.0",
            "_model_name": "ProgressStyleModel",
            "_view_count": null,
            "_view_module": "@jupyter-widgets/base",
            "_view_module_version": "1.2.0",
            "_view_name": "StyleView",
            "bar_color": null,
            "description_width": ""
          }
        },
        "c23517d55b4e40ab94335f7a70de1cd3": {
          "model_module": "@jupyter-widgets/base",
          "model_name": "LayoutModel",
          "model_module_version": "1.2.0",
          "state": {
            "_model_module": "@jupyter-widgets/base",
            "_model_module_version": "1.2.0",
            "_model_name": "LayoutModel",
            "_view_count": null,
            "_view_module": "@jupyter-widgets/base",
            "_view_module_version": "1.2.0",
            "_view_name": "LayoutView",
            "align_content": null,
            "align_items": null,
            "align_self": null,
            "border": null,
            "bottom": null,
            "display": null,
            "flex": null,
            "flex_flow": null,
            "grid_area": null,
            "grid_auto_columns": null,
            "grid_auto_flow": null,
            "grid_auto_rows": null,
            "grid_column": null,
            "grid_gap": null,
            "grid_row": null,
            "grid_template_areas": null,
            "grid_template_columns": null,
            "grid_template_rows": null,
            "height": null,
            "justify_content": null,
            "justify_items": null,
            "left": null,
            "margin": null,
            "max_height": null,
            "max_width": null,
            "min_height": null,
            "min_width": null,
            "object_fit": null,
            "object_position": null,
            "order": null,
            "overflow": null,
            "overflow_x": null,
            "overflow_y": null,
            "padding": null,
            "right": null,
            "top": null,
            "visibility": null,
            "width": null
          }
        },
        "6d20d39108644d3990e12e7cc689666d": {
          "model_module": "@jupyter-widgets/controls",
          "model_name": "DescriptionStyleModel",
          "model_module_version": "1.5.0",
          "state": {
            "_model_module": "@jupyter-widgets/controls",
            "_model_module_version": "1.5.0",
            "_model_name": "DescriptionStyleModel",
            "_view_count": null,
            "_view_module": "@jupyter-widgets/base",
            "_view_module_version": "1.2.0",
            "_view_name": "StyleView",
            "description_width": ""
          }
        }
      }
    },
    "accelerator": "GPU"
  },
  "nbformat": 4,
  "nbformat_minor": 0
}